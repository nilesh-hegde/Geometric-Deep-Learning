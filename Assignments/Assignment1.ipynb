{
  "nbformat": 4,
  "nbformat_minor": 0,
  "metadata": {
    "colab": {
      "provenance": []
    },
    "kernelspec": {
      "name": "python3",
      "display_name": "Python 3"
    },
    "language_info": {
      "name": "python"
    },
    "accelerator": "GPU",
    "gpuClass": "standard"
  },
  "cells": [
    {
      "cell_type": "markdown",
      "source": [
        "# CS 7180 Geometric Deep Learning, Homework 1: CNNs and GNNs\n",
        "\n",
        "## TLDR\n",
        "\n",
        "* **To start solving the homework, create a copy of this notebook:** `File -> Save a copy in Drive`.\n",
        "* **To hand-in the homework**, email your PDF with answers to `biza.o@northeastern.edu` and add `biza.o@northeastern.edu` as a `Commentor` using the `Share` button **in your copy of this notebook**.\n",
        "* Deadline is Wednesday February 1st, 5 PM EST.\n",
        "\n",
        "## Solving the homework in Google Colab\n",
        "\n",
        "[Google Colab](colab.research.google) is an online platform for running interactive Python session with [Jupyter](https://jupyter.org/) / [IPython](https://ipython.org/) (`.ipynb`) notebooks. We recommend you use it so that we can avoid problems with setting up local Python environment and so that we can use free GPUs to accelerate neural network training. \n",
        "\n",
        "If you have not used Python notebooks before, please check [this overview](https://colab.research.google.com/notebooks/basic_features_overview.ipynb). If you are new to Python, you can refer to [this excellent Python Numpy Tutorial](https://cs231n.github.io/python-numpy-tutorial/). We will be using [Numpy](https://numpy.org/) and [PyTorch](https://pytorch.org/) extensively to prepare data and train neural networks. For a PyTorch tutorial, follow [this link](https://pytorch.org/tutorials/beginner/basics/quickstart_tutorial.html) and select `Run in Google Colab`.\n",
        "\n",
        "You cannot save the changes you made to this notebook. To start solving the homework, create a copy that you can edit: `File -> Save a copy in Drive`.\n",
        "\n",
        "By default, your instance will run on a CPU. That is ok, but training neural network might take a while. You can (and should) request a free GPU instance using: `Runtime` -> `Change runtime type` -> `Hardware accelerator` -> `GPU` (-> `Delete previous runtime` -> `OK`). Note that your GPU instance will stop due to inactivity or a 12-hour time limit, but you can usually immediately request a new one. This will however delete all your progress (e.g. network weights) that is not saved in your code blocks, text blocks or Google Drive.\n",
        "\n",
        "Another useful command to reset your instance (keeps your GPU):\n",
        "`Runtime` -> `Restart runtime`.\n",
        "\n",
        "## Handing in the homework\n",
        "\n",
        "Please email a PDF with your answers to `biza.o@northeastern.edu`. We recommend you write-up your answers in latex (e.g. [overleaf.com](https://www.overleaf.com)). Please also share your copy of this notebook by clicking `Share` in the top-right corner, adding `biza.o@northeastern.edu`, setting me as `Commentor` and enabling `Notify people`. Another option is to email your `.ipynb` to me.\n",
        "\n",
        "## Deadline\n",
        "The deadline for this homework is **Wednesday February 1st, 5 PM EST**. You should email your solution to me by that time.\n",
        "\n",
        "## (Optional) Solving the homework on your local machine\n",
        "You can download this notebook using `Download -> Download .ipynb` and run it on your local machine. To set up a local environment, download [Python 3.6](https://www.python.org/) or later, set up a [virtual environment](https://docs.python.org/3/library/venv.html) and install [relevant packages](https://pip.pypa.io/en/stable/reference/requirements-file-format/) using [pip](https://pypi.org/project/pip/). On Linux, you would do something like this:\n",
        "\n",
        "```\n",
        "# Assuming you have Python >= 3.6 and python3-venv installed.\n",
        "python3 -m venv venv\n",
        "source ./venv/bin/activate\n",
        "# Prevents opencv-python (which we might use) from taking forever to install.\n",
        "pip install --upgrade pip setuptools wheel\n",
        "pip install -r requirements.txt\n",
        "pip install jupyter\n",
        "# Run in the directory where this notebook is located. A browser window should open.\n",
        "jupyter notebook .\n",
        "```\n",
        "\n",
        "You can run `!pip freeze` *in colab* to see the version of packages we are using. Then, you can copy the relevant packages (i.e. the ones we import) to your `requirements.txt` file or install them using `pip install x` in command line or `!pip install x` directly in the notebook. Importantly, to run on your GPU, you will need to install a `torch` version that matches your [CUDA](https://developer.nvidia.com/cuda-downloads) and [cuDNN](https://developer.nvidia.com/cudnn) versions. Please refer to the [PyTorch website](https://pytorch.org/). We might use the CPU version of tensorflow to prepare datasets."
      ],
      "metadata": {
        "id": "P0QDYjIVZnbJ"
      }
    },
    {
      "cell_type": "markdown",
      "source": [
        "# Python setup"
      ],
      "metadata": {
        "id": "N_H6WOJ1Tpr-"
      }
    },
    {
      "cell_type": "code",
      "execution_count": null,
      "metadata": {
        "id": "YXf-M7dnC_Iv"
      },
      "outputs": [],
      "source": [
        "import os\n",
        "# I like to use typing, but you don't have to!\n",
        "from typing import Any, Dict, Tuple, Union\n",
        "\n",
        "import networkx as nx\n",
        "import numpy as np\n",
        "from numpy.typing import NDArray\n",
        "import matplotlib.pyplot as plt\n",
        "from scipy.ndimage import shift\n",
        "import scipy.sparse as sp\n",
        "import tensorflow as tf\n",
        "import tensorflow_datasets as tfds\n",
        "import torch\n",
        "from torch.utils.data import DataLoader\n",
        "from torch import nn\n",
        "from torch.nn import functional as F\n",
        "from torch import optim\n",
        "import torchvision\n",
        "from torchvision import datasets, transforms\n",
        "\n",
        "# We might use tensorflow to load datasets.\n",
        "# Prevent tensorflow from stealing our GPU.\n",
        "tf.config.experimental.set_visible_devices([], \"GPU\")\n",
        "\n",
        "# Interactive plots.\n",
        "%matplotlib inline"
      ]
    },
    {
      "cell_type": "code",
      "source": [
        "# Runtime -> Change runtime type -> Hardware accelerator -> GPU (-> Delete previous runtime -> OK).\n",
        "if torch.cuda.is_available() and torch.cuda.device_count() > 0:\n",
        "  print(\"PyTorch running on a GPU. Use '.to(device)' to move tensors and models to GPU.\")\n",
        "  device = torch.device(\"cuda:0\")\n",
        "else:\n",
        "  print(\"WARNING: PyTorch running on a CPU. See comment above to request a GPU instance.\")\n",
        "  device = torch.device(\"cpu\")"
      ],
      "metadata": {
        "colab": {
          "base_uri": "https://localhost:8080/"
        },
        "id": "6oxIIpGLVxis",
        "outputId": "28314c2f-bb10-45a4-c3ec-863171945b94"
      },
      "execution_count": null,
      "outputs": [
        {
          "output_type": "stream",
          "name": "stdout",
          "text": [
            "PyTorch running on a GPU. Use '.to(device)' to move tensors and models to GPU.\n"
          ]
        }
      ]
    },
    {
      "cell_type": "markdown",
      "source": [
        "# Part 1: Training a convolutional network on MNIST, measuring translation equivariance."
      ],
      "metadata": {
        "id": "8aEOL4wUwXEi"
      }
    },
    {
      "cell_type": "markdown",
      "source": [
        "In this part, we will experiment with [MNIST](http://yann.lecun.com/exdb/mnist/), the quintessential deep learning dataset. You will implement and train a convolutional neural network, and measure its equivariance and invariance to translations. In 1999, [Yan LeCunn wrote](http://yann.lecun.com/exdb/publis/pdf/lecun-99.pdf) \"A large degree of invariance to geometric transformations of the input can be achieved with this [referring to subsampling and pooling in a CNN] progressive reduction of spatial resolution compensated by progressive increase of the richness of the representation (the number of feature maps).\" Let's see if that's true!"
      ],
      "metadata": {
        "id": "fkBy5C3RvrjA"
      }
    },
    {
      "cell_type": "markdown",
      "source": [
        "## Data preprocessing"
      ],
      "metadata": {
        "id": "6SYv9guvTlHt"
      }
    },
    {
      "cell_type": "code",
      "source": [
        "def prepare_mnist(batch_size: int) -> Tuple[DataLoader, DataLoader]:\n",
        "  \"\"\"Prepare MNIST training and evaluation data loaders in PyTorch.\n",
        "  # https://github.com/pytorch/examples/blob/main/mnist/main.py\n",
        "  \"\"\"\n",
        "  t = transforms.ToTensor()\n",
        "\n",
        "  train_ds = datasets.MNIST(\"/tmp/mnist\", download=True, train=True, transform=t)\n",
        "  eval_ds = datasets.MNIST(\"/tmp/mnist\", download=True, train=False, transform=t)\n",
        "\n",
        "  train_loader = DataLoader(train_ds, batch_size=batch_size, shuffle=True, num_workers=2)\n",
        "  eval_loader = DataLoader(eval_ds, batch_size=batch_size, shuffle=False, num_workers=1)\n",
        "\n",
        "  return train_loader, eval_loader"
      ],
      "metadata": {
        "id": "x6dPf4jrAbqd"
      },
      "execution_count": null,
      "outputs": []
    },
    {
      "cell_type": "code",
      "source": [
        "def translate(image: Union[torch.Tensor, NDArray], delta_x: float, delta_y: float) -> Union[torch.Tensor, NDArray]:\n",
        "  \"\"\"Translate an image. Either torch.Tensor or numpy.ndarray. Can be HxWxC or CxHxW.\"\"\"\n",
        "  is_torch = False\n",
        "  if type(image) == torch.Tensor:\n",
        "    # Pytorch to numpy.\n",
        "    is_torch = True\n",
        "    tmp = image.to(\"cpu\").detach().numpy()\n",
        "  else:\n",
        "    tmp = image\n",
        "\n",
        "  if len(tmp.shape) == 2:\n",
        "    # HxW\n",
        "    delta = [delta_x, delta_y]\n",
        "  else:\n",
        "    assert len(tmp.shape) == 3, \"Invalid number of dimensions in an image, should be 2 or 3.\"\n",
        "    if tmp.shape[0] in [1, 3]:\n",
        "      # CxHxW\n",
        "      delta = [0, delta_x, delta_y]\n",
        "    elif tmp.shape[2] in [1, 3]:\n",
        "      # HxWxC\n",
        "      delta = [delta_x, delta_y, 0]\n",
        "    else:\n",
        "      raise ValueError(\"Invalid number of channels in an image, should be 1 or 3.\")\n",
        "\n",
        "  # Shift and automatically add zero padding.\n",
        "  tmp = shift(image, delta)\n",
        "\n",
        "  if is_torch:\n",
        "    tmp = torch.tensor(tmp, dtype=image.dtype, device=image.device)\n",
        "  return tmp"
      ],
      "metadata": {
        "id": "H2Td6BVpPFjc"
      },
      "execution_count": null,
      "outputs": []
    },
    {
      "cell_type": "code",
      "source": [
        "train_loader, eval_loader = prepare_mnist(128)\n",
        "example = next(iter(train_loader))\n",
        "plt.figure(figsize=(10, 10))\n",
        "for i in range(5*5):\n",
        "  plt.subplot(5, 5, 1 + i)\n",
        "  plt.title(\"Label: {:d}\".format(example[1][i]))\n",
        "  plt.imshow(example[0][i][0])\n",
        "  plt.axis(\"off\")"
      ],
      "metadata": {
        "colab": {
          "base_uri": "https://localhost:8080/",
          "height": 591
        },
        "id": "7EJKi-5JG0ZQ",
        "outputId": "3d9a5efa-97c4-4fb1-f12b-f436d2bcdb22"
      },
      "execution_count": null,
      "outputs": [
        {
          "output_type": "display_data",
          "data": {
            "text/plain": [
              "<Figure size 720x720 with 25 Axes>"
            ],
            "image/png": "[encoded data removed]"
          },
          "metadata": {
            "needs_background": "light"
          }
        }
      ]
    },
    {
      "cell_type": "code",
      "source": [
        "img = example[0][0]\n",
        "transl = [-5, -2, 0, 2, 5]\n",
        "print(\"Translate by {}.\".format(transl))\n",
        "plt.figure(figsize=(10, 10))\n",
        "for i in range(5):\n",
        "  for j in range(5):\n",
        "    tmp = translate(img, transl[i], transl[j])\n",
        "    plt.subplot(5, 5, 1 + j + i * 5)\n",
        "    plt.imshow(tmp[0])\n",
        "    plt.axis(\"off\")"
      ],
      "metadata": {
        "colab": {
          "base_uri": "https://localhost:8080/",
          "height": 592
        },
        "id": "tSUzi2zXJyZB",
        "outputId": "e1ab2614-927b-40d9-c326-c563d13206c9"
      },
      "execution_count": null,
      "outputs": [
        {
          "output_type": "stream",
          "name": "stdout",
          "text": [
            "Translate by [-5, -2, 0, 2, 5].\n"
          ]
        },
        {
          "output_type": "display_data",
          "data": {
            "text/plain": [
              "<Figure size 720x720 with 25 Axes>"
            ],
            "image/png": "[encoded data removed]"
          },
          "metadata": {
            "needs_background": "light"
          }
        }
      ]
    },
    {
      "cell_type": "markdown",
      "source": [
        "## Training a baseline"
      ],
      "metadata": {
        "id": "xRJBVC94TuSJ"
      }
    },
    {
      "cell_type": "code",
      "source": [
        "class MLPBaseline(nn.Module):\n",
        "  \"\"\"A Multi Layer Perceptron baseline.\n",
        "  It flattens the input image and applies three fully-connected layers\n",
        "  each followed by an activation.\"\"\"\n",
        "  def __init__(self):\n",
        "    super().__init__()\n",
        "\n",
        "    self.fc1 = nn.Linear(28 * 28, 128)\n",
        "    self.fc2 = nn.Linear(128, 128)\n",
        "    self.fc3 = nn.Linear(128, 10)\n",
        "    self.act = nn.ReLU()\n",
        "\n",
        "  def forward(self, x: torch.Tensor) -> torch.Tensor:\n",
        "\n",
        "    x = x.reshape(x.shape[0], -1)\n",
        "\n",
        "    x = self.act(self.fc1(x))\n",
        "    x = self.act(self.fc2(x))\n",
        "    # Our loss function expect log probabilities of the 10 digit classes.\n",
        "    x = F.log_softmax(self.fc3(x), dim=-1)\n",
        "\n",
        "    return x"
      ],
      "metadata": {
        "id": "LS9Ft6_Qx6y3"
      },
      "execution_count": null,
      "outputs": []
    },
    {
      "cell_type": "code",
      "source": [
        "def train(train_loader: DataLoader, model: nn.Module,\n",
        "          optimizer: optim.Optimizer, epochs: int):\n",
        "\n",
        "  losses = []\n",
        "  # 1 epoch = 1 pass through the dataset.\n",
        "  for epoch in range(epochs):\n",
        "    print(\"Epoch {:d} / {:d}\".format(epoch, epochs))\n",
        "    # train_loader steps once it iterates over all data.\n",
        "    for train_step, batch in enumerate(train_loader):\n",
        "      # train_loader gives us batched images (CxHxW) and labels (integers).\n",
        "      # If we are using a GPU we need to move them to the device.\n",
        "      inputs, labels = batch[0].to(device), batch[1].to(device)\n",
        "      # Reset last optimization step.\n",
        "      optimizer.zero_grad()\n",
        "      # Make prediction, calculate loss.\n",
        "      outputs = model(inputs)\n",
        "      loss = F.nll_loss(outputs, labels)\n",
        "      # Compute gradients and update weights.\n",
        "      loss.backward()\n",
        "      optimizer.step()\n",
        "      losses.append(loss.item())\n",
        "\n",
        "      if train_step > 0 and train_step % 50 == 0:\n",
        "        print(\"Mean of last 50 losses: {:f}\".format(np.mean(losses[-50:])))\n",
        "\n",
        "  plt.plot(losses)\n",
        "  plt.xlabel(\"Training step\")\n",
        "  plt.ylabel(\"Loss\")"
      ],
      "metadata": {
        "id": "clz39PGPLuF9"
      },
      "execution_count": null,
      "outputs": []
    },
    {
      "cell_type": "code",
      "source": [
        "# We don't need gradients during evaluation.\n",
        "@torch.no_grad()\n",
        "def evaluate(eval_loader: DataLoader, model: nn.Module):\n",
        "\n",
        "  accuracy = []\n",
        "\n",
        "  for batch in eval_loader:\n",
        "    inputs, labels = batch[0].to(device), batch[1].to(device)\n",
        "    outputs = model(inputs)\n",
        "    pred_labels = torch.argmax(outputs, dim=-1)\n",
        "    tmp = (labels == pred_labels).float().mean()\n",
        "    accuracy.append(tmp.item())\n",
        "\n",
        "  # We compute the mean of means over batches.\n",
        "  # This could be slightly skewed if the last batch is smaller.\n",
        "  # Does not matter too much here.\n",
        "  accuracy = np.mean(accuracy)\n",
        "  print(\"Correct answer in {:.1f}% of cases.\".format(accuracy * 100))"
      ],
      "metadata": {
        "id": "5Y2j1XfoNZC9"
      },
      "execution_count": null,
      "outputs": []
    },
    {
      "cell_type": "code",
      "source": [
        "@torch.no_grad()\n",
        "def plot_predictions(eval_loader: DataLoader, model: nn.Module):\n",
        "  example = next(iter(eval_loader))\n",
        "  inputs = example[0].to(device)\n",
        "  outputs = model(inputs)\n",
        "  pred_labels = torch.argmax(outputs, dim=-1).to(\"cpu\").numpy()\n",
        "\n",
        "  plt.figure(figsize=(10, 10))\n",
        "  for i in range(5*5):\n",
        "    plt.subplot(5, 5, 1 + i)\n",
        "    plt.title(\"Label: {:d}\".format(pred_labels[i]))\n",
        "    plt.imshow(example[0][i][0])\n",
        "    plt.axis(\"off\")"
      ],
      "metadata": {
        "id": "5DSwZbv0OdE7"
      },
      "execution_count": null,
      "outputs": []
    },
    {
      "cell_type": "code",
      "source": [
        "model = MLPBaseline().to(device)\n",
        "optimizer = optim.Adam(model.parameters(), lr=0.001)\n",
        "train(train_loader, model, optimizer, 5)"
      ],
      "metadata": {
        "colab": {
          "base_uri": "https://localhost:8080/",
          "height": 1000
        },
        "id": "QF2KfoUVM-df",
        "outputId": "b6ad9ccc-001b-4039-a436-3158c1493c19"
      },
      "execution_count": null,
      "outputs": [
        {
          "output_type": "stream",
          "name": "stdout",
          "text": [
            "Epoch 0 / 5\n",
            "Mean of last 50 losses: 1.208871\n",
            "Mean of last 50 losses: 0.410971\n",
            "Mean of last 50 losses: 0.339762\n",
            "Mean of last 50 losses: 0.306199\n",
            "Mean of last 50 losses: 0.303037\n",
            "Mean of last 50 losses: 0.269672\n",
            "Mean of last 50 losses: 0.260488\n",
            "Mean of last 50 losses: 0.232948\n",
            "Mean of last 50 losses: 0.215763\n",
            "Epoch 1 / 5\n",
            "Mean of last 50 losses: 0.161685\n",
            "Mean of last 50 losses: 0.181896\n",
            "Mean of last 50 losses: 0.196959\n",
            "Mean of last 50 losses: 0.170022\n",
            "Mean of last 50 losses: 0.150322\n",
            "Mean of last 50 losses: 0.160618\n",
            "Mean of last 50 losses: 0.145069\n",
            "Mean of last 50 losses: 0.132207\n",
            "Mean of last 50 losses: 0.139334\n",
            "Epoch 2 / 5\n",
            "Mean of last 50 losses: 0.105617\n",
            "Mean of last 50 losses: 0.118967\n",
            "Mean of last 50 losses: 0.124947\n",
            "Mean of last 50 losses: 0.114590\n",
            "Mean of last 50 losses: 0.102834\n",
            "Mean of last 50 losses: 0.108330\n",
            "Mean of last 50 losses: 0.093085\n",
            "Mean of last 50 losses: 0.109723\n",
            "Mean of last 50 losses: 0.099885\n",
            "Epoch 3 / 5\n",
            "Mean of last 50 losses: 0.083839\n",
            "Mean of last 50 losses: 0.093789\n",
            "Mean of last 50 losses: 0.076961\n",
            "Mean of last 50 losses: 0.079065\n",
            "Mean of last 50 losses: 0.078173\n",
            "Mean of last 50 losses: 0.083439\n",
            "Mean of last 50 losses: 0.082038\n",
            "Mean of last 50 losses: 0.080399\n",
            "Mean of last 50 losses: 0.088587\n",
            "Epoch 4 / 5\n",
            "Mean of last 50 losses: 0.060228\n",
            "Mean of last 50 losses: 0.069256\n",
            "Mean of last 50 losses: 0.068801\n",
            "Mean of last 50 losses: 0.065414\n",
            "Mean of last 50 losses: 0.062445\n",
            "Mean of last 50 losses: 0.067358\n",
            "Mean of last 50 losses: 0.067328\n",
            "Mean of last 50 losses: 0.072344\n",
            "Mean of last 50 losses: 0.065690\n"
          ]
        },
        {
          "output_type": "display_data",
          "data": {
            "text/plain": [
              "<Figure size 432x288 with 1 Axes>"
            ],
            "image/png": "[encoded data removed]"
          },
          "metadata": {
            "needs_background": "light"
          }
        }
      ]
    },
    {
      "cell_type": "code",
      "source": [
        "evaluate(eval_loader, model)"
      ],
      "metadata": {
        "colab": {
          "base_uri": "https://localhost:8080/"
        },
        "id": "ahnrgS_MOFX_",
        "outputId": "a0ea45b4-cb08-4576-f329-a3eef2088e44"
      },
      "execution_count": null,
      "outputs": [
        {
          "output_type": "stream",
          "name": "stdout",
          "text": [
            "Correct answer in 97.4% of cases.\n"
          ]
        }
      ]
    },
    {
      "cell_type": "code",
      "source": [
        "plot_predictions(eval_loader, model)"
      ],
      "metadata": {
        "colab": {
          "base_uri": "https://localhost:8080/",
          "height": 591
        },
        "id": "YeLgw1aFO6Sc",
        "outputId": "f7c01f4f-d69f-40d0-d598-8259078bbb30"
      },
      "execution_count": null,
      "outputs": [
        {
          "output_type": "display_data",
          "data": {
            "text/plain": [
              "<Figure size 720x720 with 25 Axes>"
            ],
            "image/png": "[encoded data removed]"
          },
          "metadata": {
            "needs_background": "light"
          }
        }
      ]
    },
    {
      "cell_type": "markdown",
      "source": [
        "## == Task 1 ==\n",
        "\n",
        "[**Question 1**] Implement a convolutional neural network and report its learning curve (loss vs training steps) and validation accuracy compared to the MLP baseline we implemented. An *example* of a model you could use is: `CNN(64 kernels, kernel_size=(5, 5), stride=(2, 2), padding=(2, 2)) -> ReLU -> CNN(64 kernels, kernel_size=(5, 5), stride=(2, 2), padding=(2, 2)) -> ReLU -> CNN(64 kernels, kernel_size=(5, 5), stride=(2, 2), padding=(2, 2)) -> ReLU -> Flatten to vector -> Linear(128) -> ReLU -> Linear(10) -> LogSoftmax.`\n",
        "\n",
        "[**Question 2**] Plot validation accuracy vs training dataset size for the CNN and the MLP. The full MNIST training set size is 60k. You can choose any interesting range of dataset sizes. Make sure you actually limit the dataset size: [hint](https://stackoverflow.com/questions/44856691/how-do-you-alter-the-size-of-a-pytorch-dataset).\n",
        "\n",
        "[**Question 3**] Measure the **invariance** of the CNN and MLP predictions to translations of the input image. You can do so by randomly translating the input image (with the limit that the digit is still somewhat within the image) and measuring the change of the predicted probabilities compared to the image of a centered digit. Repeat the same measurement for untrained (randomly initialized) networks. It is ok to perform this and all following experiments with only a few validation images. Discuss the results.\n",
        "\n",
        "[**Question 4**] Add several max pooling or average pooling layers to your convolutional network (you can set convolutional strides to 1 to avoid downsampling too quickly). Does pooling make the network more invariant?\n",
        "\n",
        "[**Question 5**] Remove any stride and max pooling from your network, so that the resolution of your feature map is always 28 * 28 (the original image size). The final prediction layer can first flatten the feature map, or maybe perform average pooling, followed by some fully-connected layers. Measure the translation **equivariance** of any two intermediate feature maps in your convolutional network. You want to translate the input image and see if the feature map (of the same size) translates accordingly. Repeat the same measurement for an untrained (randomly initialized) network."
      ],
      "metadata": {
        "id": "ZzuVzDnFTi9O"
      }
    },
    {
      "cell_type": "markdown",
      "source": [
        "# Part 2: Training a Graph Convolutional Network on a citation graph dataset"
      ],
      "metadata": {
        "id": "ZKdOXPJHwb8g"
      }
    },
    {
      "cell_type": "markdown",
      "source": [
        "We will be training a [Graph Convolutional Network](https://arxiv.org/abs/1609.02907), perhaps the most used graph neural network model, on a dataset of citations. The neural network will learn to classify an academic paper into several categories based on its references (edges in a graph) and other features. As the story goes, the GNC paper was developed and written in three weeks. You only have two."
      ],
      "metadata": {
        "id": "GqOGj8gfVpzZ"
      }
    },
    {
      "cell_type": "markdown",
      "source": [
        "## Downloading a dataset and preprocesing data"
      ],
      "metadata": {
        "id": "rsHgIDZGTyz2"
      }
    },
    {
      "cell_type": "markdown",
      "source": [
        "Cora was an ancient proof-of-concept search engine for computer science papers [1]. It is also the name of a citation graph dataset [2, 3]. The dataset contains papers as nodes and references between papers as edges. Each paper is represented as a binary vector with 1433 bits. Each bit encodes the presence or absence of a certain word in the paper (bag of words). Bonus points if you can find what specific words these bits encode ... I couldn't. Papers are sorted into seven classes, which I believe correspond to major categories in CS: AI, Hardware, Security, etc. But, most papers don't have a label. Our goal is to learn to classify papers based on their bag of words feature vectors, their neighbors and their training class. Then, we should be able to generalize to other papers, which are labeled for the purpose of validation.\n",
        "\n",
        "[1] http://www.kamalnigam.com/papers/cora-aaaiss99.pdf\n",
        "\n",
        "[2] https://relational.fit.cvut.cz/dataset/CORA\n",
        "\n",
        "[3] http://eliassi.org/papers/ai-mag-tr08.pdf"
      ],
      "metadata": {
        "id": "-8Q5RkiMV91t"
      }
    },
    {
      "cell_type": "code",
      "source": [
        "# Download cora dataset node and edge data from github.\n",
        "!wget -P /tmp/cora https://github.com/tkipf/pygcn/raw/master/data/cora/cora.cites\n",
        "!wget -P /tmp/cora https://github.com/tkipf/pygcn/raw/master/data/cora/cora.content"
      ],
      "metadata": {
        "colab": {
          "base_uri": "https://localhost:8080/"
        },
        "id": "bPWo9rt_FF7x",
        "outputId": "41b97e87-38ae-41e5-812d-a0eeda17fff3"
      },
      "execution_count": null,
      "outputs": [
        {
          "output_type": "stream",
          "name": "stdout",
          "text": [
            "--2023-01-18 23:38:22--  https://github.com/tkipf/pygcn/raw/master/data/cora/cora.cites\n",
            "Resolving github.com (github.com)... 140.82.114.4\n",
            "Connecting to github.com (github.com)|140.82.114.4|:443... connected.\n",
            "HTTP request sent, awaiting response... 302 Found\n",
            "Location: https://raw.githubusercontent.com/tkipf/pygcn/master/data/cora/cora.cites [following]\n",
            "--2023-01-18 23:38:22--  https://raw.githubusercontent.com/tkipf/pygcn/master/data/cora/cora.cites\n",
            "Resolving raw.githubusercontent.com (raw.githubusercontent.com)... 185.199.108.133, 185.199.109.133, 185.199.110.133, ...\n",
            "Connecting to raw.githubusercontent.com (raw.githubusercontent.com)|185.199.108.133|:443... connected.\n",
            "HTTP request sent, awaiting response... 200 OK\n",
            "Length: 69928 (68K) [text/plain]\n",
            "Saving to: ‘/tmp/cora/cora.cites.1’\n",
            "\n",
            "\rcora.cites.1          0%[                    ]       0  --.-KB/s               \rcora.cites.1        100%[===================>]  68.29K  --.-KB/s    in 0.001s  \n",
            "\n",
            "2023-01-18 23:38:23 (50.3 MB/s) - ‘/tmp/cora/cora.cites.1’ saved [69928/69928]\n",
            "\n",
            "--2023-01-18 23:38:23--  https://github.com/tkipf/pygcn/raw/master/data/cora/cora.content\n",
            "Resolving github.com (github.com)... 140.82.112.4\n",
            "Connecting to github.com (github.com)|140.82.112.4|:443... connected.\n",
            "HTTP request sent, awaiting response... 302 Found\n",
            "Location: https://raw.githubusercontent.com/tkipf/pygcn/master/data/cora/cora.content [following]\n",
            "--2023-01-18 23:38:23--  https://raw.githubusercontent.com/tkipf/pygcn/master/data/cora/cora.content\n",
            "Resolving raw.githubusercontent.com (raw.githubusercontent.com)... 185.199.111.133, 185.199.109.133, 185.199.110.133, ...\n",
            "Connecting to raw.githubusercontent.com (raw.githubusercontent.com)|185.199.111.133|:443... connected.\n",
            "HTTP request sent, awaiting response... 200 OK\n",
            "Length: 7823427 (7.5M) [text/plain]\n",
            "Saving to: ‘/tmp/cora/cora.content.1’\n",
            "\n",
            "cora.content.1      100%[===================>]   7.46M  --.-KB/s    in 0.03s   \n",
            "\n",
            "2023-01-18 23:38:23 (298 MB/s) - ‘/tmp/cora/cora.content.1’ saved [7823427/7823427]\n",
            "\n"
          ]
        }
      ]
    },
    {
      "cell_type": "code",
      "source": [
        "# You should have cora.cites and cora.content.\n",
        "# If you run the download code several times you will get duplicates, which is ok.\n",
        "!ls /tmp/cora"
      ],
      "metadata": {
        "colab": {
          "base_uri": "https://localhost:8080/"
        },
        "id": "ZEJjNJEYIrVu",
        "outputId": "a6e6fb1c-a034-4c14-ddac-9b012e132b2a"
      },
      "execution_count": null,
      "outputs": [
        {
          "output_type": "stream",
          "name": "stdout",
          "text": [
            "cora.cites  cora.cites.1  cora.content\tcora.content.1\n"
          ]
        }
      ]
    },
    {
      "cell_type": "code",
      "source": [
        "# https://github.com/tkipf/pygcn/blob/master/pygcn/utils.py\n",
        "def sparse_mx_to_torch_sparse_tensor(sparse_mx):\n",
        "    \"\"\"Convert a scipy sparse matrix to a torch sparse tensor.\"\"\"\n",
        "    sparse_mx = sparse_mx.tocoo().astype(np.float32)\n",
        "    indices = torch.from_numpy(\n",
        "        np.vstack((sparse_mx.row, sparse_mx.col)).astype(np.int64))\n",
        "    values = torch.from_numpy(sparse_mx.data)\n",
        "    shape = torch.Size(sparse_mx.shape)\n",
        "    return torch.sparse.FloatTensor(indices, values, shape)\n",
        "\n",
        "\n",
        "def normalize(mx):\n",
        "    \"\"\"Row-normalize sparse matrix\"\"\"\n",
        "    rowsum = np.array(mx.sum(1))\n",
        "    r_inv = np.power(rowsum, -1).flatten()\n",
        "    r_inv[np.isinf(r_inv)] = 0.\n",
        "    r_mat_inv = sp.diags(r_inv)\n",
        "    mx = r_mat_inv.dot(mx)\n",
        "    return mx\n",
        "\n",
        "\n",
        "def encode_onehot(labels):\n",
        "    classes = set(labels)\n",
        "    classes_dict = {c: np.identity(len(classes))[i, :] for i, c in\n",
        "                    enumerate(classes)}\n",
        "    labels_onehot = np.array(list(map(classes_dict.get, labels)),\n",
        "                             dtype=np.int32)\n",
        "    return labels_onehot\n",
        "\n",
        "\n",
        "def load_data(path=\"/tmp/cora/\", dataset=\"cora\"):\n",
        "    \"\"\"Load citation network dataset (cora only for now)\"\"\"\n",
        "    print('Loading {} dataset...'.format(dataset))\n",
        "\n",
        "    idx_features_labels = np.genfromtxt(\"{}{}.content\".format(path, dataset),\n",
        "                                        dtype=np.dtype(str))\n",
        "    features = sp.csr_matrix(idx_features_labels[:, 1:-1], dtype=np.float32)\n",
        "    labels = encode_onehot(idx_features_labels[:, -1])\n",
        "\n",
        "    # build graph\n",
        "    idx = np.array(idx_features_labels[:, 0], dtype=np.int32)\n",
        "    idx_map = {j: i for i, j in enumerate(idx)}\n",
        "    edges_unordered = np.genfromtxt(\"{}{}.cites\".format(path, dataset),\n",
        "                                    dtype=np.int32)\n",
        "    edges = np.array(list(map(idx_map.get, edges_unordered.flatten())),\n",
        "                     dtype=np.int32).reshape(edges_unordered.shape)\n",
        "    adj = sp.coo_matrix((np.ones(edges.shape[0]), (edges[:, 0], edges[:, 1])),\n",
        "                        shape=(labels.shape[0], labels.shape[0]),\n",
        "                        dtype=np.float32)\n",
        "\n",
        "    # build symmetric adjacency matrix\n",
        "    adj = adj + adj.T.multiply(adj.T > adj) - adj.multiply(adj.T > adj)\n",
        "\n",
        "    features = normalize(features)\n",
        "    adj = normalize(adj + sp.eye(adj.shape[0]))\n",
        "\n",
        "    idx_train = range(140)\n",
        "    idx_val = range(200, 500)\n",
        "    idx_test = range(500, 1500)\n",
        "\n",
        "    features = torch.FloatTensor(np.array(features.todense()))\n",
        "    labels = torch.LongTensor(np.where(labels)[1])\n",
        "    adj = sparse_mx_to_torch_sparse_tensor(adj)\n",
        "\n",
        "    idx_train = torch.LongTensor(idx_train)\n",
        "    idx_val = torch.LongTensor(idx_val)\n",
        "    idx_test = torch.LongTensor(idx_test)\n",
        "\n",
        "    return adj, features, labels, idx_train, idx_val, idx_test"
      ],
      "metadata": {
        "id": "nJPy6iFmERCp"
      },
      "execution_count": null,
      "outputs": []
    },
    {
      "cell_type": "markdown",
      "source": [
        "Below, you have:\n",
        "* features: nodes times number of words in vocabulary,\n",
        "* labels: node labels, zero for unlabeled nodes,\n",
        "* idx_train: indices of nodes that have training labels,\n",
        "* idx_val: indices of nodes that have validation labels,\n",
        "* idx_test: indices of nodes that have testing labels,\n",
        "* adj: a **sparse tensor** representing an adjacency matrix, adj[i, j]: indices if paper i cites paper j.\n",
        "\n",
        "How to work with a [sparse torch tensor](https://pytorch.org/docs/stable/sparse.html)?\n",
        "* You can call **adj.to_dense()** to convert it to a standard torch tensor. This is probably the best approach, unless your Graph Convolution model is too slow.\n",
        "* Call **torch.sparse.mm** to multiply a sparse tensor (first argument) with a normal tensor (second argument)."
      ],
      "metadata": {
        "id": "STv66O41ZDDT"
      }
    },
    {
      "cell_type": "code",
      "source": [
        "adj, features, labels, idx_train, idx_val, idx_test = load_data()"
      ],
      "metadata": {
        "colab": {
          "base_uri": "https://localhost:8080/"
        },
        "id": "ONGBli7pFpzv",
        "outputId": "08582c0f-a4ba-4a7b-ff94-bfe936671eff"
      },
      "execution_count": null,
      "outputs": [
        {
          "output_type": "stream",
          "name": "stdout",
          "text": [
            "Loading cora dataset...\n"
          ]
        }
      ]
    },
    {
      "cell_type": "code",
      "source": [
        "features.shape"
      ],
      "metadata": {
        "colab": {
          "base_uri": "https://localhost:8080/"
        },
        "id": "mtJfmjj0fjvI",
        "outputId": "8be4b1e7-2898-4788-cc9a-321a455ca10a"
      },
      "execution_count": null,
      "outputs": [
        {
          "output_type": "execute_result",
          "data": {
            "text/plain": [
              "torch.Size([2708, 1433])"
            ]
          },
          "metadata": {},
          "execution_count": 18
        }
      ]
    },
    {
      "cell_type": "code",
      "source": [
        "adj.shape"
      ],
      "metadata": {
        "colab": {
          "base_uri": "https://localhost:8080/"
        },
        "id": "tQ47hrkMPPsF",
        "outputId": "d798105c-483a-46e0-c649-0931a70dc076"
      },
      "execution_count": null,
      "outputs": [
        {
          "output_type": "execute_result",
          "data": {
            "text/plain": [
              "torch.Size([2708, 2708])"
            ]
          },
          "metadata": {},
          "execution_count": 19
        }
      ]
    },
    {
      "cell_type": "markdown",
      "source": [
        "## Training a baseline"
      ],
      "metadata": {
        "id": "Bkxr4oP3T2Dr"
      }
    },
    {
      "cell_type": "markdown",
      "source": [
        "Below is a simple proof-of-concept baseline that classifies papers solely on their bag of words vectors. It achieves a validation accuracy of around 54%, which is somewhat better than only predicting class 5 with 46% accuracy. Your task is to use the adjacency matrix (adj) with a Graph Convolution to improve this model."
      ],
      "metadata": {
        "id": "zFGiZPOEapUk"
      }
    },
    {
      "cell_type": "code",
      "source": [
        "class MLPBaseline(nn.Module):\n",
        "\n",
        "  def __init__(self):\n",
        "    super().__init__()\n",
        "\n",
        "    self.fc1 = nn.Linear(1433, 128)\n",
        "    self.fc2 = nn.Linear(128, 128)\n",
        "    self.fc3 = nn.Linear(128, 7)\n",
        "    self.act = nn.ReLU()\n",
        "\n",
        "  def forward(self, x: torch.Tensor) -> torch.Tensor:\n",
        "\n",
        "    x = self.act(self.fc1(x))\n",
        "    x = self.act(self.fc2(x))\n",
        "    x = F.log_softmax(self.fc3(x), dim=-1)\n",
        "\n",
        "    return x"
      ],
      "metadata": {
        "id": "Yzl0DxE1xSHu"
      },
      "execution_count": null,
      "outputs": []
    },
    {
      "cell_type": "code",
      "source": [
        "def train(features: torch.Tensor, labels: torch.Tensor, idx_train: torch.Tensor,\n",
        "          model: nn.Module, optimizer: optim.Optimizer, epochs: int):\n",
        "  \n",
        "  features = features[idx_train].to(device)\n",
        "  labels = labels[idx_train].to(device)\n",
        "\n",
        "  losses = []\n",
        "  # 1 epoch = 1 pass through the dataset.\n",
        "  for epoch in range(epochs):\n",
        "    # Reset last optimization step.\n",
        "    optimizer.zero_grad()\n",
        "    # Make prediction, calculate loss.\n",
        "    outputs = model(features)\n",
        "    loss = F.nll_loss(outputs, labels)\n",
        "    # Compute gradients and update weights.\n",
        "    loss.backward()\n",
        "    optimizer.step()\n",
        "    losses.append(loss.item())\n",
        "\n",
        "    if epoch > 0 and epoch % 50 == 0:\n",
        "      print(\"Epoch {:d} / {:d}\".format(epoch, epochs))\n",
        "      print(\"Mean of last 50 losses: {:f}\".format(np.mean(losses[-50:])))\n",
        "\n",
        "  plt.plot(losses)\n",
        "  plt.xlabel(\"Training step\")\n",
        "  plt.ylabel(\"Loss\")"
      ],
      "metadata": {
        "id": "8_q5Z9WXK0dZ"
      },
      "execution_count": null,
      "outputs": []
    },
    {
      "cell_type": "code",
      "source": [
        "# We don't need gradients during evaluation.\n",
        "@torch.no_grad()\n",
        "def evaluate(features: torch.Tensor, labels: torch.Tensor,\n",
        "             idx_val: torch.Tensor, model: nn.Module):\n",
        "\n",
        "  features = features[idx_val].to(device)\n",
        "  labels = labels[idx_val].to(device)\n",
        "\n",
        "  accuracy = []\n",
        "\n",
        "  outputs = model(features)\n",
        "  pred_labels = torch.argmax(outputs, dim=-1)\n",
        "  tmp = (labels == pred_labels).float().mean()\n",
        "  accuracy.append(tmp.item())\n",
        "\n",
        "  accuracy = np.mean(accuracy)\n",
        "  print(\"Correct answer in {:.1f}% of cases.\".format(accuracy * 100))"
      ],
      "metadata": {
        "id": "1xcDo9iVN_6R"
      },
      "execution_count": null,
      "outputs": []
    },
    {
      "cell_type": "code",
      "source": [
        "model = MLPBaseline().to(device)\n",
        "optimizer = optim.Adam(model.parameters(), lr=0.001)\n",
        "train(features, labels, idx_train, model, optimizer, 300)\n",
        "evaluate(features, labels, idx_val, model)"
      ],
      "metadata": {
        "colab": {
          "base_uri": "https://localhost:8080/",
          "height": 466
        },
        "id": "3PWC2rBCK4hm",
        "outputId": "5c1fe838-f424-4897-d7a6-6aa83a6589fd"
      },
      "execution_count": null,
      "outputs": [
        {
          "output_type": "stream",
          "name": "stdout",
          "text": [
            "Epoch 50 / 300\n",
            "Mean of last 50 losses: 1.806110\n",
            "Epoch 100 / 300\n",
            "Mean of last 50 losses: 0.972078\n",
            "Epoch 150 / 300\n",
            "Mean of last 50 losses: 0.197459\n",
            "Epoch 200 / 300\n",
            "Mean of last 50 losses: 0.028683\n",
            "Epoch 250 / 300\n",
            "Mean of last 50 losses: 0.008074\n",
            "Correct answer in 52.7% of cases.\n"
          ]
        },
        {
          "output_type": "display_data",
          "data": {
            "text/plain": [
              "<Figure size 432x288 with 1 Axes>"
            ],
            "image/png": "[encoded data removed]"
          },
          "metadata": {
            "needs_background": "light"
          }
        }
      ]
    },
    {
      "cell_type": "markdown",
      "source": [
        "## == Task 2 ==\n",
        "\n",
        "[**Question 1**] Implement a Graph Convolutional Network (https://arxiv.org/abs/1609.02907) and train it on the Cora dataset. The network should make a prediction for each of the 2708 nodes, but only be trained and evaluated on the nodes specified by `idx_train` and `idx_val`. Plot its learning curve and report its validation accuracy. Note that you can run the entire graph through the network in a single training step (unless you run out of memory). My MLP baseline above only uses the nodes that have training and validation labels. That is because it does not look at the neighbors (and their neighbors, ...) of labeled nodes. You will have to use all nodes.\n",
        "\n",
        "[**Question 2**] Is the MLP baseline equivariant to the permutation of nodes (and the corresponding permutation of the adjacency matrix)? What about the Graph Convolutional Network?\n",
        "\n",
        "[**Question 3**] Plot the number of training steps (you can choose a few discrete values) vs validation accuracy. Is the MLP baseline or the Graph Convolutional Network more prone to overfitting? Why?"
      ],
      "metadata": {
        "id": "V5V5pMkBT9gw"
      }
    }
  ]
}